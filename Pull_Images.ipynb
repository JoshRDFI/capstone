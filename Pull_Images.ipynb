{
 "cells": [
  {
   "cell_type": "code",
   "execution_count": 1,
   "id": "d7034df1",
   "metadata": {},
   "outputs": [],
   "source": [
    "# Import satements\n",
    "import pandas as pd\n",
    "import os\n",
    "import requests\n",
    "from time import sleep\n",
    "from urllib.parse import urlparse"
   ]
  },
  {
   "cell_type": "code",
   "execution_count": 2,
   "id": "fc56c2a6",
   "metadata": {},
   "outputs": [],
   "source": [
    "# Create the 'anime_img' directory if it doesn't exist\n",
    "if not os.path.exists('anime_img'):\n",
    "    os.makedirs('anime_img')"
   ]
  },
  {
   "cell_type": "code",
   "execution_count": 3,
   "id": "daf0c597",
   "metadata": {},
   "outputs": [],
   "source": [
    "# Read DataFrame \n",
    "df = pd.read_csv(\"anime-dataset-2023.csv\")"
   ]
  },
  {
   "cell_type": "code",
   "execution_count": null,
   "id": "106ddb19",
   "metadata": {},
   "outputs": [],
   "source": [
    "for index, row in df.iterrows():\n",
    "    # Parse 'Image URL' to get the image type\n",
    "    url = row['Image URL']\n",
    "    img_type = os.path.splitext(urlparse(url).path)[1]\n",
    "    \n",
    "    # Create a new name for the image using the 'English name' column\n",
    "    # Replace a bunch of characters with either a blank space, underscore, or nothing from the names\n",
    "    new_name = row['English name'].replace('*', '-').replace('∀', 'V').replace(' ', '_').replace(':', '').replace('/', '_').replace('.', '').replace('\"', '').replace('?', '').lower() + img_type\n",
    "    \n",
    "    # Download and save the image with the new name\n",
    "    response = requests.get(url)\n",
    "    with open(f'anime_img/{new_name}', 'wb') as file:\n",
    "        file.write(response.content)\n",
    "    \n",
    "    # Update the 'Image URL' column with the new URL\n",
    "    df.at[index, 'Image URL'] = f\"https://www.otakucastle.com/anime_img/{new_name}\"\n",
    "    \n",
    "    # Sleep for 3 seconds between each loop\n",
    "    sleep(3)"
   ]
  },
  {
   "cell_type": "code",
   "execution_count": null,
   "id": "1bd544da",
   "metadata": {},
   "outputs": [],
   "source": [
    "# Save the updated DataFrame to a new CSV file\n",
    "df.to_csv('OC_linked_dataset.csv', index=False)"
   ]
  },
  {
   "cell_type": "code",
   "execution_count": null,
   "id": "0b528cb7",
   "metadata": {},
   "outputs": [],
   "source": [
    "# Check dataframe for new Image URL\n",
    "df2 = pd.read_csv(\"OC_linked_dataset.csv\")\n",
    "df2.head()"
   ]
  },
  {
   "cell_type": "code",
   "execution_count": null,
   "id": "0b4bfa9f",
   "metadata": {},
   "outputs": [],
   "source": [
    "# Check to see if OC_linked_dataset.csv matches original df\n",
    "df.head()"
   ]
  },
  {
   "cell_type": "code",
   "execution_count": null,
   "id": "31ca6b0e",
   "metadata": {},
   "outputs": [],
   "source": [
    "# if match: df.to_csv(\"anime-dataset-2023.csv\")"
   ]
  }
 ],
 "metadata": {
  "kernelspec": {
   "display_name": "Python 3 (ipykernel)",
   "language": "python",
   "name": "python3"
  },
  "language_info": {
   "codemirror_mode": {
    "name": "ipython",
    "version": 3
   },
   "file_extension": ".py",
   "mimetype": "text/x-python",
   "name": "python",
   "nbconvert_exporter": "python",
   "pygments_lexer": "ipython3",
   "version": "3.9.17"
  }
 },
 "nbformat": 4,
 "nbformat_minor": 5
}
