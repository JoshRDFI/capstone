{
 "cells": [
  {
   "cell_type": "markdown",
   "id": "8cf9b0be",
   "metadata": {},
   "source": [
    "## Otaku Castle Anime Recommender System\n",
    "Data from Kaggle.com, collected from myanimelist.com\n",
    "\n",
    "Source: https://www.kaggle.com/datasets/dbdmobile/myanimelist-dataset\n"
   ]
  },
  {
   "cell_type": "markdown",
   "id": "e7ad1430",
   "metadata": {},
   "source": [
    "### Dataset preprocessing and cleaning"
   ]
  },
  {
   "cell_type": "code",
   "execution_count": 1,
   "id": "bc6dc932",
   "metadata": {},
   "outputs": [],
   "source": [
    "# Import statements\n",
    "import pandas as pd\n",
    "import numpy as np\n",
    "import matplotlib.pyplot as plt\n",
    "%matplotlib inline"
   ]
  },
  {
   "cell_type": "code",
   "execution_count": 2,
   "id": "135342d8",
   "metadata": {},
   "outputs": [],
   "source": [
    "# Options\n",
    "pd.set_option(\"display.max_rows\", 100)"
   ]
  },
  {
   "cell_type": "code",
   "execution_count": 3,
   "id": "ff833b8d",
   "metadata": {},
   "outputs": [],
   "source": [
    "# Load dataframes\n",
    "anime = pd.read_csv(\"anime-dataset-2023.csv\")\n",
    "scores = pd.read_csv(\"users-score-2023.csv\")\n",
    "users = pd.read_csv(\"users-details-2023.csv\")"
   ]
  },
  {
   "cell_type": "code",
   "execution_count": 4,
   "id": "39c1e2c7",
   "metadata": {},
   "outputs": [
    {
     "name": "stdout",
     "output_type": "stream",
     "text": [
      "<class 'pandas.core.frame.DataFrame'>\n",
      "RangeIndex: 24905 entries, 0 to 24904\n",
      "Data columns (total 24 columns):\n",
      " #   Column        Non-Null Count  Dtype \n",
      "---  ------        --------------  ----- \n",
      " 0   anime_id      24905 non-null  int64 \n",
      " 1   Name          24905 non-null  object\n",
      " 2   English name  24905 non-null  object\n",
      " 3   Other name    24905 non-null  object\n",
      " 4   Score         24905 non-null  object\n",
      " 5   Genres        24905 non-null  object\n",
      " 6   Synopsis      24905 non-null  object\n",
      " 7   Type          24905 non-null  object\n",
      " 8   Episodes      24905 non-null  object\n",
      " 9   Aired         24905 non-null  object\n",
      " 10  Premiered     24905 non-null  object\n",
      " 11  Status        24905 non-null  object\n",
      " 12  Producers     24905 non-null  object\n",
      " 13  Licensors     24905 non-null  object\n",
      " 14  Studios       24905 non-null  object\n",
      " 15  Source        24905 non-null  object\n",
      " 16  Duration      24905 non-null  object\n",
      " 17  Rating        24905 non-null  object\n",
      " 18  Rank          24905 non-null  object\n",
      " 19  Popularity    24905 non-null  int64 \n",
      " 20  Favorites     24905 non-null  int64 \n",
      " 21  Scored By     24905 non-null  object\n",
      " 22  Members       24905 non-null  int64 \n",
      " 23  Image URL     24905 non-null  object\n",
      "dtypes: int64(4), object(20)\n",
      "memory usage: 4.6+ MB\n"
     ]
    }
   ],
   "source": [
    "anime.info()"
   ]
  },
  {
   "cell_type": "code",
   "execution_count": 5,
   "id": "948be352",
   "metadata": {},
   "outputs": [
    {
     "name": "stdout",
     "output_type": "stream",
     "text": [
      "<class 'pandas.core.frame.DataFrame'>\n",
      "RangeIndex: 24325191 entries, 0 to 24325190\n",
      "Data columns (total 5 columns):\n",
      " #   Column       Dtype \n",
      "---  ------       ----- \n",
      " 0   user_id      int64 \n",
      " 1   Username     object\n",
      " 2   anime_id     int64 \n",
      " 3   Anime Title  object\n",
      " 4   rating       int64 \n",
      "dtypes: int64(3), object(2)\n",
      "memory usage: 927.9+ MB\n"
     ]
    }
   ],
   "source": [
    "scores.info()"
   ]
  },
  {
   "cell_type": "code",
   "execution_count": 6,
   "id": "690d1a70",
   "metadata": {},
   "outputs": [
    {
     "name": "stdout",
     "output_type": "stream",
     "text": [
      "<class 'pandas.core.frame.DataFrame'>\n",
      "RangeIndex: 731290 entries, 0 to 731289\n",
      "Data columns (total 16 columns):\n",
      " #   Column            Non-Null Count   Dtype  \n",
      "---  ------            --------------   -----  \n",
      " 0   Mal ID            731290 non-null  int64  \n",
      " 1   Username          731289 non-null  object \n",
      " 2   Gender            224383 non-null  object \n",
      " 3   Birthday          168068 non-null  object \n",
      " 4   Location          152805 non-null  object \n",
      " 5   Joined            731290 non-null  object \n",
      " 6   Days Watched      731282 non-null  float64\n",
      " 7   Mean Score        731282 non-null  float64\n",
      " 8   Watching          731282 non-null  float64\n",
      " 9   Completed         731282 non-null  float64\n",
      " 10  On Hold           731282 non-null  float64\n",
      " 11  Dropped           731282 non-null  float64\n",
      " 12  Plan to Watch     731282 non-null  float64\n",
      " 13  Total Entries     731282 non-null  float64\n",
      " 14  Rewatched         731282 non-null  float64\n",
      " 15  Episodes Watched  731282 non-null  float64\n",
      "dtypes: float64(10), int64(1), object(5)\n",
      "memory usage: 89.3+ MB\n"
     ]
    }
   ],
   "source": [
    "users.info()"
   ]
  },
  {
   "cell_type": "code",
   "execution_count": 7,
   "id": "db139ed6",
   "metadata": {},
   "outputs": [
    {
     "data": {
      "text/html": [
       "<div>\n",
       "<style scoped>\n",
       "    .dataframe tbody tr th:only-of-type {\n",
       "        vertical-align: middle;\n",
       "    }\n",
       "\n",
       "    .dataframe tbody tr th {\n",
       "        vertical-align: top;\n",
       "    }\n",
       "\n",
       "    .dataframe thead th {\n",
       "        text-align: right;\n",
       "    }\n",
       "</style>\n",
       "<table border=\"1\" class=\"dataframe\">\n",
       "  <thead>\n",
       "    <tr style=\"text-align: right;\">\n",
       "      <th></th>\n",
       "      <th>anime_id</th>\n",
       "      <th>Name</th>\n",
       "      <th>English name</th>\n",
       "      <th>Other name</th>\n",
       "      <th>Score</th>\n",
       "      <th>Genres</th>\n",
       "      <th>Synopsis</th>\n",
       "      <th>Type</th>\n",
       "      <th>Episodes</th>\n",
       "      <th>Aired</th>\n",
       "      <th>...</th>\n",
       "      <th>Studios</th>\n",
       "      <th>Source</th>\n",
       "      <th>Duration</th>\n",
       "      <th>Rating</th>\n",
       "      <th>Rank</th>\n",
       "      <th>Popularity</th>\n",
       "      <th>Favorites</th>\n",
       "      <th>Scored By</th>\n",
       "      <th>Members</th>\n",
       "      <th>Image URL</th>\n",
       "    </tr>\n",
       "  </thead>\n",
       "  <tbody>\n",
       "    <tr>\n",
       "      <th>0</th>\n",
       "      <td>1</td>\n",
       "      <td>Cowboy Bebop</td>\n",
       "      <td>Cowboy Bebop</td>\n",
       "      <td>カウボーイビバップ</td>\n",
       "      <td>8.75</td>\n",
       "      <td>Action, Award Winning, Sci-Fi</td>\n",
       "      <td>Crime is timeless. By the year 2071, humanity ...</td>\n",
       "      <td>TV</td>\n",
       "      <td>26.0</td>\n",
       "      <td>Apr 3, 1998 to Apr 24, 1999</td>\n",
       "      <td>...</td>\n",
       "      <td>Sunrise</td>\n",
       "      <td>Original</td>\n",
       "      <td>24 min per ep</td>\n",
       "      <td>R - 17+ (violence &amp; profanity)</td>\n",
       "      <td>41.0</td>\n",
       "      <td>43</td>\n",
       "      <td>78525</td>\n",
       "      <td>914193.0</td>\n",
       "      <td>1771505</td>\n",
       "      <td>https://cdn.myanimelist.net/images/anime/4/196...</td>\n",
       "    </tr>\n",
       "    <tr>\n",
       "      <th>1</th>\n",
       "      <td>5</td>\n",
       "      <td>Cowboy Bebop: Tengoku no Tobira</td>\n",
       "      <td>Cowboy Bebop: The Movie</td>\n",
       "      <td>カウボーイビバップ 天国の扉</td>\n",
       "      <td>8.38</td>\n",
       "      <td>Action, Sci-Fi</td>\n",
       "      <td>Another day, another bounty—such is the life o...</td>\n",
       "      <td>Movie</td>\n",
       "      <td>1.0</td>\n",
       "      <td>Sep 1, 2001</td>\n",
       "      <td>...</td>\n",
       "      <td>Bones</td>\n",
       "      <td>Original</td>\n",
       "      <td>1 hr 55 min</td>\n",
       "      <td>R - 17+ (violence &amp; profanity)</td>\n",
       "      <td>189.0</td>\n",
       "      <td>602</td>\n",
       "      <td>1448</td>\n",
       "      <td>206248.0</td>\n",
       "      <td>360978</td>\n",
       "      <td>https://cdn.myanimelist.net/images/anime/1439/...</td>\n",
       "    </tr>\n",
       "    <tr>\n",
       "      <th>2</th>\n",
       "      <td>6</td>\n",
       "      <td>Trigun</td>\n",
       "      <td>Trigun</td>\n",
       "      <td>トライガン</td>\n",
       "      <td>8.22</td>\n",
       "      <td>Action, Adventure, Sci-Fi</td>\n",
       "      <td>Vash the Stampede is the man with a $$60,000,0...</td>\n",
       "      <td>TV</td>\n",
       "      <td>26.0</td>\n",
       "      <td>Apr 1, 1998 to Sep 30, 1998</td>\n",
       "      <td>...</td>\n",
       "      <td>Madhouse</td>\n",
       "      <td>Manga</td>\n",
       "      <td>24 min per ep</td>\n",
       "      <td>PG-13 - Teens 13 or older</td>\n",
       "      <td>328.0</td>\n",
       "      <td>246</td>\n",
       "      <td>15035</td>\n",
       "      <td>356739.0</td>\n",
       "      <td>727252</td>\n",
       "      <td>https://cdn.myanimelist.net/images/anime/7/203...</td>\n",
       "    </tr>\n",
       "  </tbody>\n",
       "</table>\n",
       "<p>3 rows × 24 columns</p>\n",
       "</div>"
      ],
      "text/plain": [
       "   anime_id                             Name             English name  \\\n",
       "0         1                     Cowboy Bebop             Cowboy Bebop   \n",
       "1         5  Cowboy Bebop: Tengoku no Tobira  Cowboy Bebop: The Movie   \n",
       "2         6                           Trigun                   Trigun   \n",
       "\n",
       "       Other name Score                         Genres  \\\n",
       "0       カウボーイビバップ  8.75  Action, Award Winning, Sci-Fi   \n",
       "1  カウボーイビバップ 天国の扉  8.38                 Action, Sci-Fi   \n",
       "2           トライガン  8.22      Action, Adventure, Sci-Fi   \n",
       "\n",
       "                                            Synopsis   Type Episodes  \\\n",
       "0  Crime is timeless. By the year 2071, humanity ...     TV     26.0   \n",
       "1  Another day, another bounty—such is the life o...  Movie      1.0   \n",
       "2  Vash the Stampede is the man with a $$60,000,0...     TV     26.0   \n",
       "\n",
       "                         Aired  ...   Studios    Source       Duration  \\\n",
       "0  Apr 3, 1998 to Apr 24, 1999  ...   Sunrise  Original  24 min per ep   \n",
       "1                  Sep 1, 2001  ...     Bones  Original    1 hr 55 min   \n",
       "2  Apr 1, 1998 to Sep 30, 1998  ...  Madhouse     Manga  24 min per ep   \n",
       "\n",
       "                           Rating   Rank Popularity Favorites Scored By  \\\n",
       "0  R - 17+ (violence & profanity)   41.0         43     78525  914193.0   \n",
       "1  R - 17+ (violence & profanity)  189.0        602      1448  206248.0   \n",
       "2       PG-13 - Teens 13 or older  328.0        246     15035  356739.0   \n",
       "\n",
       "   Members                                          Image URL  \n",
       "0  1771505  https://cdn.myanimelist.net/images/anime/4/196...  \n",
       "1   360978  https://cdn.myanimelist.net/images/anime/1439/...  \n",
       "2   727252  https://cdn.myanimelist.net/images/anime/7/203...  \n",
       "\n",
       "[3 rows x 24 columns]"
      ]
     },
     "execution_count": 7,
     "metadata": {},
     "output_type": "execute_result"
    }
   ],
   "source": [
    "anime.head(3)"
   ]
  },
  {
   "cell_type": "code",
   "execution_count": 8,
   "id": "57daca05",
   "metadata": {},
   "outputs": [
    {
     "data": {
      "text/html": [
       "<div>\n",
       "<style scoped>\n",
       "    .dataframe tbody tr th:only-of-type {\n",
       "        vertical-align: middle;\n",
       "    }\n",
       "\n",
       "    .dataframe tbody tr th {\n",
       "        vertical-align: top;\n",
       "    }\n",
       "\n",
       "    .dataframe thead th {\n",
       "        text-align: right;\n",
       "    }\n",
       "</style>\n",
       "<table border=\"1\" class=\"dataframe\">\n",
       "  <thead>\n",
       "    <tr style=\"text-align: right;\">\n",
       "      <th></th>\n",
       "      <th>user_id</th>\n",
       "      <th>Username</th>\n",
       "      <th>anime_id</th>\n",
       "      <th>Anime Title</th>\n",
       "      <th>rating</th>\n",
       "    </tr>\n",
       "  </thead>\n",
       "  <tbody>\n",
       "    <tr>\n",
       "      <th>0</th>\n",
       "      <td>1</td>\n",
       "      <td>Xinil</td>\n",
       "      <td>21</td>\n",
       "      <td>One Piece</td>\n",
       "      <td>9</td>\n",
       "    </tr>\n",
       "    <tr>\n",
       "      <th>1</th>\n",
       "      <td>1</td>\n",
       "      <td>Xinil</td>\n",
       "      <td>48</td>\n",
       "      <td>.hack//Sign</td>\n",
       "      <td>7</td>\n",
       "    </tr>\n",
       "    <tr>\n",
       "      <th>2</th>\n",
       "      <td>1</td>\n",
       "      <td>Xinil</td>\n",
       "      <td>320</td>\n",
       "      <td>A Kite</td>\n",
       "      <td>5</td>\n",
       "    </tr>\n",
       "  </tbody>\n",
       "</table>\n",
       "</div>"
      ],
      "text/plain": [
       "   user_id Username  anime_id  Anime Title  rating\n",
       "0        1    Xinil        21    One Piece       9\n",
       "1        1    Xinil        48  .hack//Sign       7\n",
       "2        1    Xinil       320       A Kite       5"
      ]
     },
     "execution_count": 8,
     "metadata": {},
     "output_type": "execute_result"
    }
   ],
   "source": [
    "scores.head(3)"
   ]
  },
  {
   "cell_type": "code",
   "execution_count": 9,
   "id": "14d78683",
   "metadata": {},
   "outputs": [
    {
     "data": {
      "text/html": [
       "<div>\n",
       "<style scoped>\n",
       "    .dataframe tbody tr th:only-of-type {\n",
       "        vertical-align: middle;\n",
       "    }\n",
       "\n",
       "    .dataframe tbody tr th {\n",
       "        vertical-align: top;\n",
       "    }\n",
       "\n",
       "    .dataframe thead th {\n",
       "        text-align: right;\n",
       "    }\n",
       "</style>\n",
       "<table border=\"1\" class=\"dataframe\">\n",
       "  <thead>\n",
       "    <tr style=\"text-align: right;\">\n",
       "      <th></th>\n",
       "      <th>Mal ID</th>\n",
       "      <th>Username</th>\n",
       "      <th>Gender</th>\n",
       "      <th>Birthday</th>\n",
       "      <th>Location</th>\n",
       "      <th>Joined</th>\n",
       "      <th>Days Watched</th>\n",
       "      <th>Mean Score</th>\n",
       "      <th>Watching</th>\n",
       "      <th>Completed</th>\n",
       "      <th>On Hold</th>\n",
       "      <th>Dropped</th>\n",
       "      <th>Plan to Watch</th>\n",
       "      <th>Total Entries</th>\n",
       "      <th>Rewatched</th>\n",
       "      <th>Episodes Watched</th>\n",
       "    </tr>\n",
       "  </thead>\n",
       "  <tbody>\n",
       "    <tr>\n",
       "      <th>0</th>\n",
       "      <td>1</td>\n",
       "      <td>Xinil</td>\n",
       "      <td>Male</td>\n",
       "      <td>1985-03-04T00:00:00+00:00</td>\n",
       "      <td>California</td>\n",
       "      <td>2004-11-05T00:00:00+00:00</td>\n",
       "      <td>142.3</td>\n",
       "      <td>7.37</td>\n",
       "      <td>1.0</td>\n",
       "      <td>233.0</td>\n",
       "      <td>8.0</td>\n",
       "      <td>93.0</td>\n",
       "      <td>64.0</td>\n",
       "      <td>399.0</td>\n",
       "      <td>60.0</td>\n",
       "      <td>8458.0</td>\n",
       "    </tr>\n",
       "    <tr>\n",
       "      <th>1</th>\n",
       "      <td>3</td>\n",
       "      <td>Aokaado</td>\n",
       "      <td>Male</td>\n",
       "      <td>NaN</td>\n",
       "      <td>Oslo, Norway</td>\n",
       "      <td>2004-11-11T00:00:00+00:00</td>\n",
       "      <td>68.6</td>\n",
       "      <td>7.34</td>\n",
       "      <td>23.0</td>\n",
       "      <td>137.0</td>\n",
       "      <td>99.0</td>\n",
       "      <td>44.0</td>\n",
       "      <td>40.0</td>\n",
       "      <td>343.0</td>\n",
       "      <td>15.0</td>\n",
       "      <td>4072.0</td>\n",
       "    </tr>\n",
       "    <tr>\n",
       "      <th>2</th>\n",
       "      <td>4</td>\n",
       "      <td>Crystal</td>\n",
       "      <td>Female</td>\n",
       "      <td>NaN</td>\n",
       "      <td>Melbourne, Australia</td>\n",
       "      <td>2004-11-13T00:00:00+00:00</td>\n",
       "      <td>212.8</td>\n",
       "      <td>6.68</td>\n",
       "      <td>16.0</td>\n",
       "      <td>636.0</td>\n",
       "      <td>303.0</td>\n",
       "      <td>0.0</td>\n",
       "      <td>45.0</td>\n",
       "      <td>1000.0</td>\n",
       "      <td>10.0</td>\n",
       "      <td>12781.0</td>\n",
       "    </tr>\n",
       "  </tbody>\n",
       "</table>\n",
       "</div>"
      ],
      "text/plain": [
       "   Mal ID Username  Gender                   Birthday              Location  \\\n",
       "0       1    Xinil    Male  1985-03-04T00:00:00+00:00            California   \n",
       "1       3  Aokaado    Male                        NaN          Oslo, Norway   \n",
       "2       4  Crystal  Female                        NaN  Melbourne, Australia   \n",
       "\n",
       "                      Joined  Days Watched  Mean Score  Watching  Completed  \\\n",
       "0  2004-11-05T00:00:00+00:00         142.3        7.37       1.0      233.0   \n",
       "1  2004-11-11T00:00:00+00:00          68.6        7.34      23.0      137.0   \n",
       "2  2004-11-13T00:00:00+00:00         212.8        6.68      16.0      636.0   \n",
       "\n",
       "   On Hold  Dropped  Plan to Watch  Total Entries  Rewatched  Episodes Watched  \n",
       "0      8.0     93.0           64.0          399.0       60.0            8458.0  \n",
       "1     99.0     44.0           40.0          343.0       15.0            4072.0  \n",
       "2    303.0      0.0           45.0         1000.0       10.0           12781.0  "
      ]
     },
     "execution_count": 9,
     "metadata": {},
     "output_type": "execute_result"
    }
   ],
   "source": [
    "users.head(3)"
   ]
  },
  {
   "cell_type": "code",
   "execution_count": 10,
   "id": "a3dc9c5b",
   "metadata": {},
   "outputs": [
    {
     "data": {
      "text/plain": [
       "anime_id        0\n",
       "Name            0\n",
       "English name    0\n",
       "Other name      0\n",
       "Score           0\n",
       "Genres          0\n",
       "Synopsis        0\n",
       "Type            0\n",
       "Episodes        0\n",
       "Aired           0\n",
       "Premiered       0\n",
       "Status          0\n",
       "Producers       0\n",
       "Licensors       0\n",
       "Studios         0\n",
       "Source          0\n",
       "Duration        0\n",
       "Rating          0\n",
       "Rank            0\n",
       "Popularity      0\n",
       "Favorites       0\n",
       "Scored By       0\n",
       "Members         0\n",
       "Image URL       0\n",
       "dtype: int64"
      ]
     },
     "execution_count": 10,
     "metadata": {},
     "output_type": "execute_result"
    }
   ],
   "source": [
    "# Check all dataframes for missing data\n",
    "anime.isna().sum()"
   ]
  },
  {
   "cell_type": "code",
   "execution_count": 11,
   "id": "d06937fc",
   "metadata": {},
   "outputs": [
    {
     "data": {
      "text/plain": [
       "user_id          0\n",
       "Username       232\n",
       "anime_id         0\n",
       "Anime Title      0\n",
       "rating           0\n",
       "dtype: int64"
      ]
     },
     "execution_count": 11,
     "metadata": {},
     "output_type": "execute_result"
    }
   ],
   "source": [
    "scores.isna().sum()"
   ]
  },
  {
   "cell_type": "code",
   "execution_count": 12,
   "id": "7ab97c9b",
   "metadata": {},
   "outputs": [
    {
     "data": {
      "text/plain": [
       "Mal ID                   0\n",
       "Username                 1\n",
       "Gender              506907\n",
       "Birthday            563222\n",
       "Location            578485\n",
       "Joined                   0\n",
       "Days Watched             8\n",
       "Mean Score               8\n",
       "Watching                 8\n",
       "Completed                8\n",
       "On Hold                  8\n",
       "Dropped                  8\n",
       "Plan to Watch            8\n",
       "Total Entries            8\n",
       "Rewatched                8\n",
       "Episodes Watched         8\n",
       "dtype: int64"
      ]
     },
     "execution_count": 12,
     "metadata": {},
     "output_type": "execute_result"
    }
   ],
   "source": [
    "users.isna().sum()"
   ]
  },
  {
   "cell_type": "code",
   "execution_count": 13,
   "id": "3497f0c9",
   "metadata": {},
   "outputs": [],
   "source": [
    "# Users has missing data in 3 columns: Gender, Birthday, and Location. Roughly 2/3 of all records is missing this data, \n",
    "# so I will remove those columns from the dataset. \n",
    "users.drop(columns = ['Gender', 'Birthday', 'Location'], axis = 1, inplace = True)"
   ]
  },
  {
   "cell_type": "code",
   "execution_count": 14,
   "id": "5bce4722",
   "metadata": {},
   "outputs": [],
   "source": [
    "# The \"Joined\" column is not helpful, and taking up space/processing time. I will remove it as well.\n",
    "users.drop(columns = ['Joined'], axis = 1, inplace = True)"
   ]
  },
  {
   "cell_type": "code",
   "execution_count": 15,
   "id": "390a27e8",
   "metadata": {},
   "outputs": [
    {
     "data": {
      "text/plain": [
       "Mal ID              0\n",
       "Username            1\n",
       "Days Watched        8\n",
       "Mean Score          8\n",
       "Watching            8\n",
       "Completed           8\n",
       "On Hold             8\n",
       "Dropped             8\n",
       "Plan to Watch       8\n",
       "Total Entries       8\n",
       "Rewatched           8\n",
       "Episodes Watched    8\n",
       "dtype: int64"
      ]
     },
     "execution_count": 15,
     "metadata": {},
     "output_type": "execute_result"
    }
   ],
   "source": [
    "users.isna().sum()"
   ]
  },
  {
   "cell_type": "code",
   "execution_count": 18,
   "id": "8e57d3ae",
   "metadata": {},
   "outputs": [
    {
     "data": {
      "text/plain": [
       "24905"
      ]
     },
     "execution_count": 18,
     "metadata": {},
     "output_type": "execute_result"
    }
   ],
   "source": [
    "# Check unique number of anime titles\n",
    "anime.groupby('anime_id')['Name'].nunique().sum()"
   ]
  },
  {
   "cell_type": "code",
   "execution_count": 19,
   "id": "b307b370",
   "metadata": {},
   "outputs": [
    {
     "data": {
      "text/plain": [
       "Score\n",
       "UNKNOWN    9213\n",
       "6.31         80\n",
       "6.54         80\n",
       "6.25         79\n",
       "6.51         79\n",
       "           ... \n",
       "3.21          1\n",
       "3.29          1\n",
       "1.85          1\n",
       "3.69          1\n",
       "4.07          1\n",
       "Name: count, Length: 567, dtype: int64"
      ]
     },
     "execution_count": 19,
     "metadata": {},
     "output_type": "execute_result"
    }
   ],
   "source": [
    "# Checking scores in anime dataframe\n",
    "anime['Score'].value_counts()"
   ]
  },
  {
   "cell_type": "markdown",
   "id": "efa3b14d",
   "metadata": {},
   "source": [
    "Finding 9213 records with an unknown score will cause issues later. To fix this, I have choices. I could give these records a score of 1, delete those rows, or create a mean score from the other records. Before deciding, let's take a look at the data."
   ]
  },
  {
   "cell_type": "code",
   "execution_count": 20,
   "id": "55e761ff",
   "metadata": {},
   "outputs": [
    {
     "data": {
      "text/html": [
       "<div>\n",
       "<style scoped>\n",
       "    .dataframe tbody tr th:only-of-type {\n",
       "        vertical-align: middle;\n",
       "    }\n",
       "\n",
       "    .dataframe tbody tr th {\n",
       "        vertical-align: top;\n",
       "    }\n",
       "\n",
       "    .dataframe thead th {\n",
       "        text-align: right;\n",
       "    }\n",
       "</style>\n",
       "<table border=\"1\" class=\"dataframe\">\n",
       "  <thead>\n",
       "    <tr style=\"text-align: right;\">\n",
       "      <th></th>\n",
       "      <th>anime_id</th>\n",
       "      <th>Name</th>\n",
       "      <th>English name</th>\n",
       "      <th>Other name</th>\n",
       "      <th>Score</th>\n",
       "      <th>Genres</th>\n",
       "      <th>Synopsis</th>\n",
       "      <th>Type</th>\n",
       "      <th>Episodes</th>\n",
       "      <th>Aired</th>\n",
       "      <th>...</th>\n",
       "      <th>Studios</th>\n",
       "      <th>Source</th>\n",
       "      <th>Duration</th>\n",
       "      <th>Rating</th>\n",
       "      <th>Rank</th>\n",
       "      <th>Popularity</th>\n",
       "      <th>Favorites</th>\n",
       "      <th>Scored By</th>\n",
       "      <th>Members</th>\n",
       "      <th>Image URL</th>\n",
       "    </tr>\n",
       "  </thead>\n",
       "  <tbody>\n",
       "    <tr>\n",
       "      <th>1578</th>\n",
       "      <td>1739</td>\n",
       "      <td>Shibawanko no Wa no Kokoro</td>\n",
       "      <td>UNKNOWN</td>\n",
       "      <td>しばわんこの和のこころ</td>\n",
       "      <td>UNKNOWN</td>\n",
       "      <td>UNKNOWN</td>\n",
       "      <td>Based on a japanese children`s book by Yoshie ...</td>\n",
       "      <td>TV</td>\n",
       "      <td>80.0</td>\n",
       "      <td>Apr 5, 2006 to Mar 14, 2007</td>\n",
       "      <td>...</td>\n",
       "      <td>Three-d</td>\n",
       "      <td>Unknown</td>\n",
       "      <td>2 min per ep</td>\n",
       "      <td>G - All Ages</td>\n",
       "      <td>19660.0</td>\n",
       "      <td>13679</td>\n",
       "      <td>1</td>\n",
       "      <td>UNKNOWN</td>\n",
       "      <td>728</td>\n",
       "      <td>https://cdn.myanimelist.net/images/anime/11/70...</td>\n",
       "    </tr>\n",
       "    <tr>\n",
       "      <th>1699</th>\n",
       "      <td>1863</td>\n",
       "      <td>Silk Road Shounen Yuuto</td>\n",
       "      <td>UNKNOWN</td>\n",
       "      <td>シルクロード少年 ユート</td>\n",
       "      <td>UNKNOWN</td>\n",
       "      <td>Adventure, Fantasy</td>\n",
       "      <td>When a boy Yuto visits Qinghai in China, he is...</td>\n",
       "      <td>TV</td>\n",
       "      <td>26.0</td>\n",
       "      <td>Sep 16, 2006 to Mar 24, 2007</td>\n",
       "      <td>...</td>\n",
       "      <td>OLM</td>\n",
       "      <td>Unknown</td>\n",
       "      <td>20 min per ep</td>\n",
       "      <td>UNKNOWN</td>\n",
       "      <td>19912.0</td>\n",
       "      <td>13981</td>\n",
       "      <td>0</td>\n",
       "      <td>UNKNOWN</td>\n",
       "      <td>657</td>\n",
       "      <td>https://cdn.myanimelist.net/images/anime/1/186...</td>\n",
       "    </tr>\n",
       "    <tr>\n",
       "      <th>2476</th>\n",
       "      <td>2701</td>\n",
       "      <td>Susie-chan to Marvy</td>\n",
       "      <td>Little Susie and Marvy</td>\n",
       "      <td>スージーちゃんとマービー</td>\n",
       "      <td>UNKNOWN</td>\n",
       "      <td>Comedy</td>\n",
       "      <td>No description available for this anime.</td>\n",
       "      <td>TV</td>\n",
       "      <td>104.0</td>\n",
       "      <td>Apr 5, 1999 to Feb 3, 2000</td>\n",
       "      <td>...</td>\n",
       "      <td>Xebec</td>\n",
       "      <td>Unknown</td>\n",
       "      <td>15 min per ep</td>\n",
       "      <td>UNKNOWN</td>\n",
       "      <td>12706.0</td>\n",
       "      <td>16212</td>\n",
       "      <td>0</td>\n",
       "      <td>UNKNOWN</td>\n",
       "      <td>374</td>\n",
       "      <td>https://cdn.myanimelist.net/images/anime/10/36...</td>\n",
       "    </tr>\n",
       "    <tr>\n",
       "      <th>2483</th>\n",
       "      <td>2708</td>\n",
       "      <td>Wankorobee</td>\n",
       "      <td>UNKNOWN</td>\n",
       "      <td>わんころべえ</td>\n",
       "      <td>UNKNOWN</td>\n",
       "      <td>Comedy, Fantasy</td>\n",
       "      <td>No description available for this anime.</td>\n",
       "      <td>TV</td>\n",
       "      <td>26.0</td>\n",
       "      <td>Oct 6, 1996 to Mar 30, 1997</td>\n",
       "      <td>...</td>\n",
       "      <td>Ajia-do, TMS Entertainment</td>\n",
       "      <td>Original</td>\n",
       "      <td>15 min per ep</td>\n",
       "      <td>G - All Ages</td>\n",
       "      <td>13327.0</td>\n",
       "      <td>16545</td>\n",
       "      <td>0</td>\n",
       "      <td>UNKNOWN</td>\n",
       "      <td>348</td>\n",
       "      <td>https://cdn.myanimelist.net/images/anime/11/36...</td>\n",
       "    </tr>\n",
       "    <tr>\n",
       "      <th>2508</th>\n",
       "      <td>2735</td>\n",
       "      <td>Mugen Senki Portriss</td>\n",
       "      <td>UNKNOWN</td>\n",
       "      <td>無限戦記ポトリス</td>\n",
       "      <td>UNKNOWN</td>\n",
       "      <td>Action, Sci-Fi</td>\n",
       "      <td>In a raving world, legendary knights stood up....</td>\n",
       "      <td>TV</td>\n",
       "      <td>52.0</td>\n",
       "      <td>Apr 5, 2003 to Mar 27, 2004</td>\n",
       "      <td>...</td>\n",
       "      <td>Sunrise, Dongwoo A&amp;E</td>\n",
       "      <td>Unknown</td>\n",
       "      <td>25 min per ep</td>\n",
       "      <td>PG - Children</td>\n",
       "      <td>18320.0</td>\n",
       "      <td>14460</td>\n",
       "      <td>1</td>\n",
       "      <td>UNKNOWN</td>\n",
       "      <td>567</td>\n",
       "      <td>https://cdn.myanimelist.net/images/anime/1627/...</td>\n",
       "    </tr>\n",
       "    <tr>\n",
       "      <th>...</th>\n",
       "      <td>...</td>\n",
       "      <td>...</td>\n",
       "      <td>...</td>\n",
       "      <td>...</td>\n",
       "      <td>...</td>\n",
       "      <td>...</td>\n",
       "      <td>...</td>\n",
       "      <td>...</td>\n",
       "      <td>...</td>\n",
       "      <td>...</td>\n",
       "      <td>...</td>\n",
       "      <td>...</td>\n",
       "      <td>...</td>\n",
       "      <td>...</td>\n",
       "      <td>...</td>\n",
       "      <td>...</td>\n",
       "      <td>...</td>\n",
       "      <td>...</td>\n",
       "      <td>...</td>\n",
       "      <td>...</td>\n",
       "      <td>...</td>\n",
       "    </tr>\n",
       "    <tr>\n",
       "      <th>24900</th>\n",
       "      <td>55731</td>\n",
       "      <td>Wu Nao Monu</td>\n",
       "      <td>UNKNOWN</td>\n",
       "      <td>无脑魔女</td>\n",
       "      <td>UNKNOWN</td>\n",
       "      <td>Comedy, Fantasy, Slice of Life</td>\n",
       "      <td>No description available for this anime.</td>\n",
       "      <td>ONA</td>\n",
       "      <td>15.0</td>\n",
       "      <td>Jul 4, 2023 to ?</td>\n",
       "      <td>...</td>\n",
       "      <td>UNKNOWN</td>\n",
       "      <td>Web manga</td>\n",
       "      <td>Unknown</td>\n",
       "      <td>PG-13 - Teens 13 or older</td>\n",
       "      <td>UNKNOWN</td>\n",
       "      <td>24723</td>\n",
       "      <td>0</td>\n",
       "      <td>UNKNOWN</td>\n",
       "      <td>0</td>\n",
       "      <td>https://cdn.myanimelist.net/images/anime/1386/...</td>\n",
       "    </tr>\n",
       "    <tr>\n",
       "      <th>24901</th>\n",
       "      <td>55732</td>\n",
       "      <td>Bu Xing Si: Yuan Qi</td>\n",
       "      <td>Blader Soul</td>\n",
       "      <td>捕星司·源起</td>\n",
       "      <td>UNKNOWN</td>\n",
       "      <td>Action, Adventure, Fantasy</td>\n",
       "      <td>No description available for this anime.</td>\n",
       "      <td>ONA</td>\n",
       "      <td>18.0</td>\n",
       "      <td>Jul 27, 2023 to ?</td>\n",
       "      <td>...</td>\n",
       "      <td>UNKNOWN</td>\n",
       "      <td>Web novel</td>\n",
       "      <td>Unknown</td>\n",
       "      <td>PG-13 - Teens 13 or older</td>\n",
       "      <td>0.0</td>\n",
       "      <td>0</td>\n",
       "      <td>0</td>\n",
       "      <td>UNKNOWN</td>\n",
       "      <td>0</td>\n",
       "      <td>https://cdn.myanimelist.net/images/anime/1383/...</td>\n",
       "    </tr>\n",
       "    <tr>\n",
       "      <th>24902</th>\n",
       "      <td>55733</td>\n",
       "      <td>Di Yi Xulie</td>\n",
       "      <td>The First Order</td>\n",
       "      <td>第一序列</td>\n",
       "      <td>UNKNOWN</td>\n",
       "      <td>Action, Adventure, Fantasy, Sci-Fi</td>\n",
       "      <td>No description available for this anime.</td>\n",
       "      <td>ONA</td>\n",
       "      <td>16.0</td>\n",
       "      <td>Jul 19, 2023 to ?</td>\n",
       "      <td>...</td>\n",
       "      <td>UNKNOWN</td>\n",
       "      <td>Web novel</td>\n",
       "      <td>Unknown</td>\n",
       "      <td>PG-13 - Teens 13 or older</td>\n",
       "      <td>0.0</td>\n",
       "      <td>0</td>\n",
       "      <td>0</td>\n",
       "      <td>UNKNOWN</td>\n",
       "      <td>0</td>\n",
       "      <td>https://cdn.myanimelist.net/images/anime/1130/...</td>\n",
       "    </tr>\n",
       "    <tr>\n",
       "      <th>24903</th>\n",
       "      <td>55734</td>\n",
       "      <td>Bokura no Saishuu Sensou</td>\n",
       "      <td>UNKNOWN</td>\n",
       "      <td>僕らの最終戦争</td>\n",
       "      <td>UNKNOWN</td>\n",
       "      <td>UNKNOWN</td>\n",
       "      <td>A music video for the song Bokura no Saishuu S...</td>\n",
       "      <td>Music</td>\n",
       "      <td>1.0</td>\n",
       "      <td>Apr 23, 2022</td>\n",
       "      <td>...</td>\n",
       "      <td>UNKNOWN</td>\n",
       "      <td>Original</td>\n",
       "      <td>3 min</td>\n",
       "      <td>PG-13 - Teens 13 or older</td>\n",
       "      <td>0.0</td>\n",
       "      <td>0</td>\n",
       "      <td>0</td>\n",
       "      <td>UNKNOWN</td>\n",
       "      <td>0</td>\n",
       "      <td>https://cdn.myanimelist.net/images/anime/1931/...</td>\n",
       "    </tr>\n",
       "    <tr>\n",
       "      <th>24904</th>\n",
       "      <td>55735</td>\n",
       "      <td>Shijuuku Nichi</td>\n",
       "      <td>UNKNOWN</td>\n",
       "      <td>四十九日</td>\n",
       "      <td>UNKNOWN</td>\n",
       "      <td>UNKNOWN</td>\n",
       "      <td>A music video for the song Shijuuku Nichi by S...</td>\n",
       "      <td>Music</td>\n",
       "      <td>1.0</td>\n",
       "      <td>Sep 5, 2022</td>\n",
       "      <td>...</td>\n",
       "      <td>UNKNOWN</td>\n",
       "      <td>Original</td>\n",
       "      <td>3 min</td>\n",
       "      <td>PG-13 - Teens 13 or older</td>\n",
       "      <td>0.0</td>\n",
       "      <td>0</td>\n",
       "      <td>0</td>\n",
       "      <td>UNKNOWN</td>\n",
       "      <td>0</td>\n",
       "      <td>https://cdn.myanimelist.net/images/anime/1902/...</td>\n",
       "    </tr>\n",
       "  </tbody>\n",
       "</table>\n",
       "<p>9213 rows × 24 columns</p>\n",
       "</div>"
      ],
      "text/plain": [
       "       anime_id                        Name            English name  \\\n",
       "1578       1739  Shibawanko no Wa no Kokoro                 UNKNOWN   \n",
       "1699       1863     Silk Road Shounen Yuuto                 UNKNOWN   \n",
       "2476       2701         Susie-chan to Marvy  Little Susie and Marvy   \n",
       "2483       2708                  Wankorobee                 UNKNOWN   \n",
       "2508       2735        Mugen Senki Portriss                 UNKNOWN   \n",
       "...         ...                         ...                     ...   \n",
       "24900     55731                 Wu Nao Monu                 UNKNOWN   \n",
       "24901     55732         Bu Xing Si: Yuan Qi             Blader Soul   \n",
       "24902     55733                 Di Yi Xulie         The First Order   \n",
       "24903     55734    Bokura no Saishuu Sensou                 UNKNOWN   \n",
       "24904     55735              Shijuuku Nichi                 UNKNOWN   \n",
       "\n",
       "         Other name    Score                              Genres  \\\n",
       "1578    しばわんこの和のこころ  UNKNOWN                             UNKNOWN   \n",
       "1699   シルクロード少年 ユート  UNKNOWN                  Adventure, Fantasy   \n",
       "2476   スージーちゃんとマービー  UNKNOWN                              Comedy   \n",
       "2483         わんころべえ  UNKNOWN                     Comedy, Fantasy   \n",
       "2508       無限戦記ポトリス  UNKNOWN                      Action, Sci-Fi   \n",
       "...             ...      ...                                 ...   \n",
       "24900          无脑魔女  UNKNOWN      Comedy, Fantasy, Slice of Life   \n",
       "24901        捕星司·源起  UNKNOWN          Action, Adventure, Fantasy   \n",
       "24902          第一序列  UNKNOWN  Action, Adventure, Fantasy, Sci-Fi   \n",
       "24903       僕らの最終戦争  UNKNOWN                             UNKNOWN   \n",
       "24904          四十九日  UNKNOWN                             UNKNOWN   \n",
       "\n",
       "                                                Synopsis   Type Episodes  \\\n",
       "1578   Based on a japanese children`s book by Yoshie ...     TV     80.0   \n",
       "1699   When a boy Yuto visits Qinghai in China, he is...     TV     26.0   \n",
       "2476            No description available for this anime.     TV    104.0   \n",
       "2483            No description available for this anime.     TV     26.0   \n",
       "2508   In a raving world, legendary knights stood up....     TV     52.0   \n",
       "...                                                  ...    ...      ...   \n",
       "24900           No description available for this anime.    ONA     15.0   \n",
       "24901           No description available for this anime.    ONA     18.0   \n",
       "24902           No description available for this anime.    ONA     16.0   \n",
       "24903  A music video for the song Bokura no Saishuu S...  Music      1.0   \n",
       "24904  A music video for the song Shijuuku Nichi by S...  Music      1.0   \n",
       "\n",
       "                              Aired  ...                     Studios  \\\n",
       "1578    Apr 5, 2006 to Mar 14, 2007  ...                     Three-d   \n",
       "1699   Sep 16, 2006 to Mar 24, 2007  ...                         OLM   \n",
       "2476     Apr 5, 1999 to Feb 3, 2000  ...                       Xebec   \n",
       "2483    Oct 6, 1996 to Mar 30, 1997  ...  Ajia-do, TMS Entertainment   \n",
       "2508    Apr 5, 2003 to Mar 27, 2004  ...        Sunrise, Dongwoo A&E   \n",
       "...                             ...  ...                         ...   \n",
       "24900              Jul 4, 2023 to ?  ...                     UNKNOWN   \n",
       "24901             Jul 27, 2023 to ?  ...                     UNKNOWN   \n",
       "24902             Jul 19, 2023 to ?  ...                     UNKNOWN   \n",
       "24903                  Apr 23, 2022  ...                     UNKNOWN   \n",
       "24904                   Sep 5, 2022  ...                     UNKNOWN   \n",
       "\n",
       "          Source       Duration                     Rating     Rank  \\\n",
       "1578     Unknown   2 min per ep               G - All Ages  19660.0   \n",
       "1699     Unknown  20 min per ep                    UNKNOWN  19912.0   \n",
       "2476     Unknown  15 min per ep                    UNKNOWN  12706.0   \n",
       "2483    Original  15 min per ep               G - All Ages  13327.0   \n",
       "2508     Unknown  25 min per ep              PG - Children  18320.0   \n",
       "...          ...            ...                        ...      ...   \n",
       "24900  Web manga        Unknown  PG-13 - Teens 13 or older  UNKNOWN   \n",
       "24901  Web novel        Unknown  PG-13 - Teens 13 or older      0.0   \n",
       "24902  Web novel        Unknown  PG-13 - Teens 13 or older      0.0   \n",
       "24903   Original          3 min  PG-13 - Teens 13 or older      0.0   \n",
       "24904   Original          3 min  PG-13 - Teens 13 or older      0.0   \n",
       "\n",
       "      Popularity Favorites Scored By Members  \\\n",
       "1578       13679         1   UNKNOWN     728   \n",
       "1699       13981         0   UNKNOWN     657   \n",
       "2476       16212         0   UNKNOWN     374   \n",
       "2483       16545         0   UNKNOWN     348   \n",
       "2508       14460         1   UNKNOWN     567   \n",
       "...          ...       ...       ...     ...   \n",
       "24900      24723         0   UNKNOWN       0   \n",
       "24901          0         0   UNKNOWN       0   \n",
       "24902          0         0   UNKNOWN       0   \n",
       "24903          0         0   UNKNOWN       0   \n",
       "24904          0         0   UNKNOWN       0   \n",
       "\n",
       "                                               Image URL  \n",
       "1578   https://cdn.myanimelist.net/images/anime/11/70...  \n",
       "1699   https://cdn.myanimelist.net/images/anime/1/186...  \n",
       "2476   https://cdn.myanimelist.net/images/anime/10/36...  \n",
       "2483   https://cdn.myanimelist.net/images/anime/11/36...  \n",
       "2508   https://cdn.myanimelist.net/images/anime/1627/...  \n",
       "...                                                  ...  \n",
       "24900  https://cdn.myanimelist.net/images/anime/1386/...  \n",
       "24901  https://cdn.myanimelist.net/images/anime/1383/...  \n",
       "24902  https://cdn.myanimelist.net/images/anime/1130/...  \n",
       "24903  https://cdn.myanimelist.net/images/anime/1931/...  \n",
       "24904  https://cdn.myanimelist.net/images/anime/1902/...  \n",
       "\n",
       "[9213 rows x 24 columns]"
      ]
     },
     "execution_count": 20,
     "metadata": {},
     "output_type": "execute_result"
    }
   ],
   "source": [
    "# Check for any anime with \"Unknown\" Score\n",
    "anime.loc[anime['Score'] == \"UNKNOWN\"]"
   ]
  },
  {
   "cell_type": "markdown",
   "id": "1d3d544b",
   "metadata": {},
   "source": [
    "Since very few members have watched/favorited these shows with UNKNOWN as a score, I have decided to give them a 0.5 score. This keeps them from being eliminated from the dataset, and maybe allows someone in the future to discover a hidden gem."
   ]
  },
  {
   "cell_type": "code",
   "execution_count": 21,
   "id": "421404c0",
   "metadata": {},
   "outputs": [],
   "source": [
    "anime['Score'] = anime['Score'].replace('UNKNOWN', '0.5')"
   ]
  },
  {
   "cell_type": "code",
   "execution_count": 22,
   "id": "bf4986bc",
   "metadata": {},
   "outputs": [
    {
     "data": {
      "text/html": [
       "<div>\n",
       "<style scoped>\n",
       "    .dataframe tbody tr th:only-of-type {\n",
       "        vertical-align: middle;\n",
       "    }\n",
       "\n",
       "    .dataframe tbody tr th {\n",
       "        vertical-align: top;\n",
       "    }\n",
       "\n",
       "    .dataframe thead th {\n",
       "        text-align: right;\n",
       "    }\n",
       "</style>\n",
       "<table border=\"1\" class=\"dataframe\">\n",
       "  <thead>\n",
       "    <tr style=\"text-align: right;\">\n",
       "      <th></th>\n",
       "      <th>anime_id</th>\n",
       "      <th>Name</th>\n",
       "      <th>English name</th>\n",
       "      <th>Other name</th>\n",
       "      <th>Score</th>\n",
       "      <th>Genres</th>\n",
       "      <th>Synopsis</th>\n",
       "      <th>Type</th>\n",
       "      <th>Episodes</th>\n",
       "      <th>Aired</th>\n",
       "      <th>...</th>\n",
       "      <th>Studios</th>\n",
       "      <th>Source</th>\n",
       "      <th>Duration</th>\n",
       "      <th>Rating</th>\n",
       "      <th>Rank</th>\n",
       "      <th>Popularity</th>\n",
       "      <th>Favorites</th>\n",
       "      <th>Scored By</th>\n",
       "      <th>Members</th>\n",
       "      <th>Image URL</th>\n",
       "    </tr>\n",
       "  </thead>\n",
       "  <tbody>\n",
       "  </tbody>\n",
       "</table>\n",
       "<p>0 rows × 24 columns</p>\n",
       "</div>"
      ],
      "text/plain": [
       "Empty DataFrame\n",
       "Columns: [anime_id, Name, English name, Other name, Score, Genres, Synopsis, Type, Episodes, Aired, Premiered, Status, Producers, Licensors, Studios, Source, Duration, Rating, Rank, Popularity, Favorites, Scored By, Members, Image URL]\n",
       "Index: []\n",
       "\n",
       "[0 rows x 24 columns]"
      ]
     },
     "execution_count": 22,
     "metadata": {},
     "output_type": "execute_result"
    }
   ],
   "source": [
    "# Rerun check to test\n",
    "anime.loc[anime['Score'] == \"UNKNOWN\"]"
   ]
  },
  {
   "cell_type": "code",
   "execution_count": 23,
   "id": "ebb8831b",
   "metadata": {},
   "outputs": [],
   "source": [
    "# Perform same on Rank and Popularity to replace 'UNKNOWN'\n",
    "anime['Rank'] = anime['Rank'].replace('UNKNOWN', '0.0')\n",
    "anime['Popularity'] = anime['Popularity'].replace('UNKNOWN', '0')"
   ]
  },
  {
   "cell_type": "markdown",
   "id": "0e76bc2b",
   "metadata": {},
   "source": [
    "The data is clean, and preprocessed. \n",
    "\n",
    "Now to dig deeper into the data and possibly create some visualizations that will help in building the Recommender system."
   ]
  },
  {
   "cell_type": "markdown",
   "id": "6a0b6998",
   "metadata": {},
   "source": [
    "### Data Exploration with Visualizations"
   ]
  },
  {
   "cell_type": "markdown",
   "id": "94f5498d",
   "metadata": {},
   "source": [
    "This section is not necessary for the model to function, but it will help the creation process to see the data explored both in text and visually."
   ]
  },
  {
   "cell_type": "code",
   "execution_count": 78,
   "id": "7f25d815",
   "metadata": {},
   "outputs": [
    {
     "name": "stdout",
     "output_type": "stream",
     "text": [
      "<class 'pandas.core.frame.DataFrame'>\n",
      "RangeIndex: 24325191 entries, 0 to 24325190\n",
      "Data columns (total 5 columns):\n",
      " #   Column       Dtype \n",
      "---  ------       ----- \n",
      " 0   user_id      int64 \n",
      " 1   Username     object\n",
      " 2   anime_id     int64 \n",
      " 3   Anime Title  object\n",
      " 4   rating       int64 \n",
      "dtypes: int64(3), object(2)\n",
      "memory usage: 927.9+ MB\n"
     ]
    }
   ],
   "source": [
    "# Look over scores info\n",
    "scores.info()"
   ]
  },
  {
   "cell_type": "code",
   "execution_count": 82,
   "id": "6ca71702",
   "metadata": {},
   "outputs": [
    {
     "data": {
      "text/html": [
       "<div>\n",
       "<style scoped>\n",
       "    .dataframe tbody tr th:only-of-type {\n",
       "        vertical-align: middle;\n",
       "    }\n",
       "\n",
       "    .dataframe tbody tr th {\n",
       "        vertical-align: top;\n",
       "    }\n",
       "\n",
       "    .dataframe thead th {\n",
       "        text-align: right;\n",
       "    }\n",
       "</style>\n",
       "<table border=\"1\" class=\"dataframe\">\n",
       "  <thead>\n",
       "    <tr style=\"text-align: right;\">\n",
       "      <th></th>\n",
       "      <th>user_id</th>\n",
       "      <th>Username</th>\n",
       "      <th>anime_id</th>\n",
       "      <th>Anime Title</th>\n",
       "      <th>rating</th>\n",
       "    </tr>\n",
       "  </thead>\n",
       "  <tbody>\n",
       "    <tr>\n",
       "      <th>0</th>\n",
       "      <td>1</td>\n",
       "      <td>Xinil</td>\n",
       "      <td>21</td>\n",
       "      <td>One Piece</td>\n",
       "      <td>9</td>\n",
       "    </tr>\n",
       "  </tbody>\n",
       "</table>\n",
       "</div>"
      ],
      "text/plain": [
       "   user_id Username  anime_id Anime Title  rating\n",
       "0        1    Xinil        21   One Piece       9"
      ]
     },
     "execution_count": 82,
     "metadata": {},
     "output_type": "execute_result"
    }
   ],
   "source": [
    "scores.head(1)"
   ]
  },
  {
   "cell_type": "code",
   "execution_count": 83,
   "id": "50d3ee8d",
   "metadata": {},
   "outputs": [
    {
     "name": "stdout",
     "output_type": "stream",
     "text": [
      "<class 'pandas.core.frame.DataFrame'>\n",
      "RangeIndex: 731290 entries, 0 to 731289\n",
      "Data columns (total 12 columns):\n",
      " #   Column            Non-Null Count   Dtype  \n",
      "---  ------            --------------   -----  \n",
      " 0   Mal ID            731290 non-null  int64  \n",
      " 1   Username          731289 non-null  object \n",
      " 2   Days Watched      731282 non-null  float64\n",
      " 3   Mean Score        731282 non-null  float64\n",
      " 4   Watching          731282 non-null  float64\n",
      " 5   Completed         731282 non-null  float64\n",
      " 6   On Hold           731282 non-null  float64\n",
      " 7   Dropped           731282 non-null  float64\n",
      " 8   Plan to Watch     731282 non-null  float64\n",
      " 9   Total Entries     731282 non-null  float64\n",
      " 10  Rewatched         731282 non-null  float64\n",
      " 11  Episodes Watched  731282 non-null  float64\n",
      "dtypes: float64(10), int64(1), object(1)\n",
      "memory usage: 67.0+ MB\n"
     ]
    }
   ],
   "source": [
    "# Look over users info\n",
    "users.info()"
   ]
  },
  {
   "cell_type": "code",
   "execution_count": 84,
   "id": "676c62fb",
   "metadata": {},
   "outputs": [
    {
     "data": {
      "text/html": [
       "<div>\n",
       "<style scoped>\n",
       "    .dataframe tbody tr th:only-of-type {\n",
       "        vertical-align: middle;\n",
       "    }\n",
       "\n",
       "    .dataframe tbody tr th {\n",
       "        vertical-align: top;\n",
       "    }\n",
       "\n",
       "    .dataframe thead th {\n",
       "        text-align: right;\n",
       "    }\n",
       "</style>\n",
       "<table border=\"1\" class=\"dataframe\">\n",
       "  <thead>\n",
       "    <tr style=\"text-align: right;\">\n",
       "      <th></th>\n",
       "      <th>Mal ID</th>\n",
       "      <th>Username</th>\n",
       "      <th>Days Watched</th>\n",
       "      <th>Mean Score</th>\n",
       "      <th>Watching</th>\n",
       "      <th>Completed</th>\n",
       "      <th>On Hold</th>\n",
       "      <th>Dropped</th>\n",
       "      <th>Plan to Watch</th>\n",
       "      <th>Total Entries</th>\n",
       "      <th>Rewatched</th>\n",
       "      <th>Episodes Watched</th>\n",
       "    </tr>\n",
       "  </thead>\n",
       "  <tbody>\n",
       "    <tr>\n",
       "      <th>0</th>\n",
       "      <td>1</td>\n",
       "      <td>Xinil</td>\n",
       "      <td>142.3</td>\n",
       "      <td>7.37</td>\n",
       "      <td>1.0</td>\n",
       "      <td>233.0</td>\n",
       "      <td>8.0</td>\n",
       "      <td>93.0</td>\n",
       "      <td>64.0</td>\n",
       "      <td>399.0</td>\n",
       "      <td>60.0</td>\n",
       "      <td>8458.0</td>\n",
       "    </tr>\n",
       "  </tbody>\n",
       "</table>\n",
       "</div>"
      ],
      "text/plain": [
       "   Mal ID Username  Days Watched  Mean Score  Watching  Completed  On Hold  \\\n",
       "0       1    Xinil         142.3        7.37       1.0      233.0      8.0   \n",
       "\n",
       "   Dropped  Plan to Watch  Total Entries  Rewatched  Episodes Watched  \n",
       "0     93.0           64.0          399.0       60.0            8458.0  "
      ]
     },
     "execution_count": 84,
     "metadata": {},
     "output_type": "execute_result"
    }
   ],
   "source": [
    "users.head(1)"
   ]
  },
  {
   "cell_type": "code",
   "execution_count": 16,
   "id": "94f85f23",
   "metadata": {},
   "outputs": [
    {
     "data": {
      "text/plain": [
       "731289"
      ]
     },
     "execution_count": 16,
     "metadata": {},
     "output_type": "execute_result"
    }
   ],
   "source": [
    "# Check unique number of users\n",
    "users.groupby('Mal ID')['Username'].nunique().sum()"
   ]
  },
  {
   "cell_type": "code",
   "execution_count": 17,
   "id": "b635d82f",
   "metadata": {},
   "outputs": [
    {
     "data": {
      "text/plain": [
       "270032"
      ]
     },
     "execution_count": 17,
     "metadata": {},
     "output_type": "execute_result"
    }
   ],
   "source": [
    "# Check unique number of scores\n",
    "scores.groupby('user_id')['Username'].nunique().sum()"
   ]
  },
  {
   "cell_type": "code",
   "execution_count": 87,
   "id": "a4b8cfae",
   "metadata": {},
   "outputs": [
    {
     "data": {
      "text/plain": [
       "Mal ID\n",
       "False    467221\n",
       "True     264069\n",
       "Name: count, dtype: int64"
      ]
     },
     "execution_count": 87,
     "metadata": {},
     "output_type": "execute_result"
    }
   ],
   "source": [
    "# Does the Mal ID in 'users' match 'user_id' in scores?\n",
    "users['Mal ID'].isin(scores['user_id']).value_counts()"
   ]
  },
  {
   "cell_type": "code",
   "execution_count": 89,
   "id": "f64ed95d",
   "metadata": {},
   "outputs": [
    {
     "data": {
      "text/plain": [
       "232"
      ]
     },
     "execution_count": 89,
     "metadata": {},
     "output_type": "execute_result"
    }
   ],
   "source": [
    "# How many scores with no Username?\n",
    "scores['Username'].isna().sum()"
   ]
  },
  {
   "cell_type": "code",
   "execution_count": null,
   "id": "ee71219e",
   "metadata": {},
   "outputs": [],
   "source": []
  },
  {
   "cell_type": "code",
   "execution_count": null,
   "id": "2209983f",
   "metadata": {},
   "outputs": [],
   "source": []
  },
  {
   "cell_type": "code",
   "execution_count": null,
   "id": "3be16743",
   "metadata": {},
   "outputs": [],
   "source": []
  },
  {
   "cell_type": "code",
   "execution_count": null,
   "id": "44af9813",
   "metadata": {},
   "outputs": [],
   "source": []
  },
  {
   "cell_type": "code",
   "execution_count": null,
   "id": "666a9855",
   "metadata": {},
   "outputs": [],
   "source": []
  },
  {
   "cell_type": "code",
   "execution_count": null,
   "id": "fec78da7",
   "metadata": {},
   "outputs": [],
   "source": []
  },
  {
   "cell_type": "code",
   "execution_count": null,
   "id": "c8eaef53",
   "metadata": {},
   "outputs": [],
   "source": []
  },
  {
   "cell_type": "code",
   "execution_count": null,
   "id": "ab72de75",
   "metadata": {},
   "outputs": [],
   "source": []
  },
  {
   "cell_type": "code",
   "execution_count": 71,
   "id": "a1ecdf49",
   "metadata": {},
   "outputs": [
    {
     "name": "stdout",
     "output_type": "stream",
     "text": [
      "Type\n",
      "Movie      4381\n",
      "Music      2686\n",
      "ONA        3533\n",
      "OVA        4076\n",
      "Special    2558\n",
      "TV         7597\n",
      "UNKNOWN      74\n",
      "dtype: int64\n",
      "Type\n",
      "TV         7597\n",
      "Movie      4381\n",
      "OVA        4076\n",
      "ONA        3533\n",
      "Music      2686\n",
      "Special    2558\n",
      "UNKNOWN      74\n",
      "Name: count, dtype: int64\n"
     ]
    }
   ],
   "source": [
    "# Number of anime titles by type\n",
    "types_total = anime['Type'].value_counts()\n",
    "types = anime.groupby('Type').size()\n",
    "print(types)\n",
    "print(types_total)"
   ]
  },
  {
   "cell_type": "code",
   "execution_count": 77,
   "id": "342a2564",
   "metadata": {},
   "outputs": [
    {
     "data": {
      "image/png": "[encoded data removed]",
      "text/plain": [
       "<Figure size 640x480 with 1 Axes>"
      ]
     },
     "metadata": {},
     "output_type": "display_data"
    }
   ],
   "source": [
    "# Plot of results\n",
    "plt.hist(x = types.index, y = types_total.sum(), bins=50)\n",
    "plt.xlabel('Anime Type')\n",
    "plt.xticks(rotation = 45)\n",
    "plt.ylabel('Count')\n",
    "plt.title('Number of Anime Titles by Type')\n",
    "#plt.grid(True)\n",
    "plt.show();"
   ]
  },
  {
   "cell_type": "code",
   "execution_count": null,
   "id": "ec073fde",
   "metadata": {},
   "outputs": [],
   "source": []
  },
  {
   "cell_type": "code",
   "execution_count": null,
   "id": "866d14f5",
   "metadata": {},
   "outputs": [],
   "source": []
  },
  {
   "cell_type": "code",
   "execution_count": null,
   "id": "eb78380d",
   "metadata": {},
   "outputs": [],
   "source": []
  },
  {
   "cell_type": "code",
   "execution_count": null,
   "id": "94196b09",
   "metadata": {},
   "outputs": [],
   "source": []
  },
  {
   "cell_type": "code",
   "execution_count": null,
   "id": "e2c2faaa",
   "metadata": {},
   "outputs": [],
   "source": []
  },
  {
   "cell_type": "code",
   "execution_count": null,
   "id": "9db82de1",
   "metadata": {},
   "outputs": [],
   "source": []
  },
  {
   "cell_type": "code",
   "execution_count": null,
   "id": "9cb193cb",
   "metadata": {},
   "outputs": [],
   "source": []
  },
  {
   "cell_type": "code",
   "execution_count": null,
   "id": "12193731",
   "metadata": {},
   "outputs": [],
   "source": []
  },
  {
   "cell_type": "code",
   "execution_count": null,
   "id": "21e7c43f",
   "metadata": {},
   "outputs": [],
   "source": []
  },
  {
   "cell_type": "code",
   "execution_count": null,
   "id": "073c3a48",
   "metadata": {},
   "outputs": [],
   "source": []
  }
 ],
 "metadata": {
  "kernelspec": {
   "display_name": "Python 3 (ipykernel)",
   "language": "python",
   "name": "python3"
  },
  "language_info": {
   "codemirror_mode": {
    "name": "ipython",
    "version": 3
   },
   "file_extension": ".py",
   "mimetype": "text/x-python",
   "name": "python",
   "nbconvert_exporter": "python",
   "pygments_lexer": "ipython3",
   "version": "3.9.17"
  }
 },
 "nbformat": 4,
 "nbformat_minor": 5
}
